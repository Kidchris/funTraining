{
 "cells": [
  {
   "cell_type": "code",
   "execution_count": 49,
   "source": [
    "import numpy as np\n",
    "import matplotlib.pyplot as plt\n",
    "from keras.datasets import imdb\n",
    "import warnings\n",
    "import tensorflow as tf\n",
    "from tensorflow.keras.models import Sequential\n",
    "from tensorflow.keras.layers import Flatten, Embedding, Dense, Conv1D, MaxPool1D, Dropout, LSTM\n",
    "from sklearn.model_selection import train_test_split\n",
    "warnings.filterwarnings(\"ignore\")"
   ],
   "outputs": [],
   "metadata": {}
  },
  {
   "cell_type": "code",
   "execution_count": 2,
   "source": [
    "maxlen=500\n",
    "vector_space = 32\n",
    "word_len = 5000\n",
    "\n",
    "(X_train, y_train), (X_test, y_test) = imdb.load_data(num_words=word_len)"
   ],
   "outputs": [],
   "metadata": {}
  },
  {
   "cell_type": "code",
   "execution_count": 3,
   "source": [
    "X = np.concatenate((X_train, X_test), axis=0)\n",
    "Y = np.concatenate((y_train, y_test), axis=0)\n",
    "X_train, X_test, y_train, y_test = train_test_split(X, Y, test_size=.45, random_state=42)"
   ],
   "outputs": [],
   "metadata": {}
  },
  {
   "cell_type": "code",
   "execution_count": 4,
   "source": [
    "X_train = tf.keras.preprocessing.sequence.pad_sequences(X_train, maxlen=maxlen)\n",
    "X_test  = tf.keras.preprocessing.sequence.pad_sequences(X_test,  maxlen=maxlen)"
   ],
   "outputs": [],
   "metadata": {}
  },
  {
   "cell_type": "code",
   "execution_count": 50,
   "source": [
    "adam = tf.keras.optimizers.Adam(learning_rate=0.0001, beta_1=0.9, beta_2=0.999, amsgrad=False)\n",
    "\n",
    "\n",
    "\n",
    "model = Sequential()\n",
    "model.add(Embedding(word_len, vector_space, input_length=maxlen))\n",
    "# model.add(Conv1D(filters=32, kernel_size=3, activation=\"tanh\", kernel_regularizer=\"l2\"))\n",
    "# model.add(MaxPool1D(pool_size=2))\n",
    "# model.add(Flatten())\n",
    "model.add(LSTM(vector_space, return_sequences=True))\n",
    "model.add(LSTM(vector_space, return_sequences=True))\n",
    "model.add(LSTM(vector_space))\n",
    "model.add(Dense(128, activation=\"tanh\", kernel_regularizer=\"l2\"))\n",
    "model.add(Dropout(.5))\n",
    "model.add(Dense(1, activation=\"sigmoid\"))\n",
    "model.compile(loss=\"binary_crossentropy\", metrics=\"acc\", optimizer=adam)\n"
   ],
   "outputs": [],
   "metadata": {}
  },
  {
   "cell_type": "code",
   "execution_count": 51,
   "source": [
    "model.summary()"
   ],
   "outputs": [
    {
     "output_type": "stream",
     "name": "stdout",
     "text": [
      "Model: \"sequential_8\"\n",
      "_________________________________________________________________\n",
      "Layer (type)                 Output Shape              Param #   \n",
      "=================================================================\n",
      "embedding_8 (Embedding)      (None, 500, 32)           160000    \n",
      "_________________________________________________________________\n",
      "lstm (LSTM)                  (None, 500, 32)           8320      \n",
      "_________________________________________________________________\n",
      "lstm_1 (LSTM)                (None, 500, 32)           8320      \n",
      "_________________________________________________________________\n",
      "lstm_2 (LSTM)                (None, 32)                8320      \n",
      "_________________________________________________________________\n",
      "dense_16 (Dense)             (None, 128)               4224      \n",
      "_________________________________________________________________\n",
      "dropout_2 (Dropout)          (None, 128)               0         \n",
      "_________________________________________________________________\n",
      "dense_17 (Dense)             (None, 1)                 129       \n",
      "=================================================================\n",
      "Total params: 189,313\n",
      "Trainable params: 189,313\n",
      "Non-trainable params: 0\n",
      "_________________________________________________________________\n"
     ]
    }
   ],
   "metadata": {}
  },
  {
   "cell_type": "code",
   "execution_count": 52,
   "source": [
    "res = model.fit(X_train, y_train, validation_data=(X_test, y_test), epochs=8, batch_size=64)"
   ],
   "outputs": [
    {
     "output_type": "stream",
     "name": "stdout",
     "text": [
      "Epoch 1/8\n",
      "430/430 [==============================] - 576s 1s/step - loss: 0.9690 - acc: 0.6444 - val_loss: 0.6639 - val_acc: 0.8312\n",
      "Epoch 2/8\n",
      "430/430 [==============================] - 565s 1s/step - loss: 0.5350 - acc: 0.8641 - val_loss: 0.4637 - val_acc: 0.8704\n",
      "Epoch 3/8\n",
      "430/430 [==============================] - 566s 1s/step - loss: 0.3772 - acc: 0.8945 - val_loss: 0.3723 - val_acc: 0.8800\n",
      "Epoch 4/8\n",
      "430/430 [==============================] - 565s 1s/step - loss: 0.2941 - acc: 0.9097 - val_loss: 0.3407 - val_acc: 0.8773\n",
      "Epoch 5/8\n",
      "430/430 [==============================] - 562s 1s/step - loss: 0.2508 - acc: 0.9171 - val_loss: 0.3353 - val_acc: 0.8700\n",
      "Epoch 6/8\n",
      "430/430 [==============================] - 561s 1s/step - loss: 0.2241 - acc: 0.9238 - val_loss: 0.3345 - val_acc: 0.8808\n",
      "Epoch 7/8\n",
      "430/430 [==============================] - 559s 1s/step - loss: 0.2036 - acc: 0.9308 - val_loss: 0.3360 - val_acc: 0.8679\n",
      "Epoch 8/8\n",
      "430/430 [==============================] - 867s 2s/step - loss: 0.1936 - acc: 0.9332 - val_loss: 0.3243 - val_acc: 0.8759\n"
     ]
    }
   ],
   "metadata": {}
  },
  {
   "cell_type": "code",
   "execution_count": 53,
   "source": [
    "plt.plot(res.history[\"acc\"], label=\"acc\")\n",
    "plt.plot(res.history[\"val_acc\"], label=\"Validation accuracy\")\n",
    "plt.plot(res.history[\"loss\"], label=\"loss\")\n",
    "plt.plot(res.history[\"val_loss\"], label=\"Validatino loss\")\n",
    "plt.legend()"
   ],
   "outputs": [
    {
     "output_type": "execute_result",
     "data": {
      "text/plain": [
       "<matplotlib.legend.Legend at 0x7f110e756550>"
      ]
     },
     "metadata": {},
     "execution_count": 53
    },
    {
     "output_type": "display_data",
     "data": {
      "text/plain": [
       "<Figure size 432x288 with 1 Axes>"
      ],
      "image/png": "[encoded data removed]"
     },
     "metadata": {
      "needs_background": "light"
     }
    }
   ],
   "metadata": {}
  }
 ],
 "metadata": {
  "kernelspec": {
   "display_name": "Python 3",
   "language": "python",
   "name": "python3"
  },
  "language_info": {
   "codemirror_mode": {
    "name": "ipython",
    "version": 3
   },
   "file_extension": ".py",
   "mimetype": "text/x-python",
   "name": "python",
   "nbconvert_exporter": "python",
   "pygments_lexer": "ipython3",
   "version": "3.8.8"
  }
 },
 "nbformat": 4,
 "nbformat_minor": 5
}